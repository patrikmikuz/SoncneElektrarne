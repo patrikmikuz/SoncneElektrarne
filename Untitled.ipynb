{
 "cells": [
  {
   "cell_type": "markdown",
   "metadata": {},
   "source": [
    "# Projektna naloga pri predmetu Programiranje 1 \n",
    "# Sončne elektrarne v Sloveniji "
   ]
  },
  {
   "cell_type": "code",
   "execution_count": 1,
   "metadata": {},
   "outputs": [
    {
     "data": {
      "text/html": [
       "<div>\n",
       "<style scoped>\n",
       "    .dataframe tbody tr th:only-of-type {\n",
       "        vertical-align: middle;\n",
       "    }\n",
       "\n",
       "    .dataframe tbody tr th {\n",
       "        vertical-align: top;\n",
       "    }\n",
       "\n",
       "    .dataframe thead th {\n",
       "        text-align: right;\n",
       "    }\n",
       "</style>\n",
       "<table border=\"1\" class=\"dataframe\">\n",
       "  <thead>\n",
       "    <tr style=\"text-align: right;\">\n",
       "      <th></th>\n",
       "      <th>Ime</th>\n",
       "      <th>Kraj</th>\n",
       "      <th>Leto</th>\n",
       "      <th>Moc [kW]</th>\n",
       "      <th>Regija</th>\n",
       "    </tr>\n",
       "  </thead>\n",
       "  <tbody>\n",
       "    <tr>\n",
       "      <td>0</td>\n",
       "      <td>Samooskrba</td>\n",
       "      <td>ŽALEC</td>\n",
       "      <td>2016</td>\n",
       "      <td>2.78</td>\n",
       "      <td>Celjska</td>\n",
       "    </tr>\n",
       "    <tr>\n",
       "      <td>1</td>\n",
       "      <td>Samooskrba</td>\n",
       "      <td>PODPLAT</td>\n",
       "      <td>2016</td>\n",
       "      <td>3.58</td>\n",
       "      <td>Celjska</td>\n",
       "    </tr>\n",
       "    <tr>\n",
       "      <td>2</td>\n",
       "      <td>Samooskrba</td>\n",
       "      <td>NAZARJE</td>\n",
       "      <td>2016</td>\n",
       "      <td>11.00</td>\n",
       "      <td>Celjska</td>\n",
       "    </tr>\n",
       "    <tr>\n",
       "      <td>3</td>\n",
       "      <td>Samooskrba</td>\n",
       "      <td>LESIČNO</td>\n",
       "      <td>2016</td>\n",
       "      <td>7.00</td>\n",
       "      <td>Celjska</td>\n",
       "    </tr>\n",
       "    <tr>\n",
       "      <td>4</td>\n",
       "      <td>Samooskrba</td>\n",
       "      <td>ŠTORE</td>\n",
       "      <td>2016</td>\n",
       "      <td>11.00</td>\n",
       "      <td>Celjska</td>\n",
       "    </tr>\n",
       "    <tr>\n",
       "      <td>...</td>\n",
       "      <td>...</td>\n",
       "      <td>...</td>\n",
       "      <td>...</td>\n",
       "      <td>...</td>\n",
       "      <td>...</td>\n",
       "    </tr>\n",
       "    <tr>\n",
       "      <td>5522</td>\n",
       "      <td>9.4.2018 do 9.4.2023</td>\n",
       "      <td>Prem</td>\n",
       "      <td>2014</td>\n",
       "      <td>48.00</td>\n",
       "      <td>Primorska</td>\n",
       "    </tr>\n",
       "    <tr>\n",
       "      <td>5523</td>\n",
       "      <td>MSE DUP - Koper 2</td>\n",
       "      <td>Hruševje</td>\n",
       "      <td>2014</td>\n",
       "      <td>49.92</td>\n",
       "      <td>Primorska</td>\n",
       "    </tr>\n",
       "    <tr>\n",
       "      <td>5524</td>\n",
       "      <td>MFE OVEN-BAVARIA-IT2</td>\n",
       "      <td>Koper</td>\n",
       "      <td>2014</td>\n",
       "      <td>49.80</td>\n",
       "      <td>Primorska</td>\n",
       "    </tr>\n",
       "    <tr>\n",
       "      <td>5525</td>\n",
       "      <td>MFE Primož</td>\n",
       "      <td>Koper</td>\n",
       "      <td>2014</td>\n",
       "      <td>4.95</td>\n",
       "      <td>Primorska</td>\n",
       "    </tr>\n",
       "    <tr>\n",
       "      <td>5526</td>\n",
       "      <td>MFE Volk, Bač</td>\n",
       "      <td>Knežak</td>\n",
       "      <td>2014</td>\n",
       "      <td>50.00</td>\n",
       "      <td>Primorska</td>\n",
       "    </tr>\n",
       "  </tbody>\n",
       "</table>\n",
       "<p>5527 rows × 5 columns</p>\n",
       "</div>"
      ],
      "text/plain": [
       "                       Ime       Kraj  Leto  Moc [kW]     Regija\n",
       "0               Samooskrba      ŽALEC  2016      2.78    Celjska\n",
       "1               Samooskrba    PODPLAT  2016      3.58    Celjska\n",
       "2               Samooskrba   NAZARJE   2016     11.00    Celjska\n",
       "3               Samooskrba    LESIČNO  2016      7.00    Celjska\n",
       "4               Samooskrba      ŠTORE  2016     11.00    Celjska\n",
       "...                    ...        ...   ...       ...        ...\n",
       "5522  9.4.2018 do 9.4.2023       Prem  2014     48.00  Primorska\n",
       "5523     MSE DUP - Koper 2  Hruševje   2014     49.92  Primorska\n",
       "5524  MFE OVEN-BAVARIA-IT2     Koper   2014     49.80  Primorska\n",
       "5525            MFE Primož     Koper   2014      4.95  Primorska\n",
       "5526         MFE Volk, Bač     Knežak  2014     50.00  Primorska\n",
       "\n",
       "[5527 rows x 5 columns]"
      ]
     },
     "execution_count": 1,
     "metadata": {},
     "output_type": "execute_result"
    }
   ],
   "source": [
    "import pandas as pd \n",
    "from matplotlib import pyplot as plt\n",
    "podatki = pd.read_csv('podatki.csv') \n",
    "pd.options.display.max_rows = 10\n",
    "podatki"
   ]
  },
  {
   "cell_type": "markdown",
   "metadata": {},
   "source": [
    "Popravim presledke na začetku in koncu posameznih besed."
   ]
  },
  {
   "cell_type": "code",
   "execution_count": 2,
   "metadata": {},
   "outputs": [],
   "source": [
    "podatki[\"Kraj\"] = podatki[\"Kraj\"].str.strip()"
   ]
  },
  {
   "cell_type": "markdown",
   "metadata": {},
   "source": [
    "Funkcija popravi_ime popravi napačno izpolnjeno celico. Napisal sem si jo z namenom popraviti ime kraja, ki je izstopalo će pri zajemu in pri regularnih izrazih. \n",
    "Nato sem videl, da je več imen napisanih napačno. Sicer sem imel najprej namen popraviti vsa imena, ampak ker bi bilo to ročno in bi ob morebitnem ponovnem zajemu podatkov lahko bila ta imena popravljena, bi posledično program javljal napako. Zato sem sedaj popravil le tisto ime, ki očitno izstopa."
   ]
  },
  {
   "cell_type": "code",
   "execution_count": 3,
   "metadata": {},
   "outputs": [],
   "source": [
    "def popravi_ime(stolpec, napacno_ime, pravo_ime):\n",
    "    index = podatki[podatki[stolpec] == napacno_ime].index[0]\n",
    "    podatki.loc[index, stolpec] = pravo_ime\n",
    "\n",
    "popravi_ime(\"Kraj\", \"\"\"<a href=https://monitoringpublic.solaredge.com/solaredge-web/p/kiosk?guid=2f388cb9-29c3-4374-8be9-6d84ed81bf1f target=\"blank\">Topolščica</a>\"\"\", \"Topolščica\")"
   ]
  },
  {
   "cell_type": "markdown",
   "metadata": {},
   "source": [
    "Delovne hipoteze: \n",
    "* Kako se spreminja število sončnih elektrarn skozi leta \n",
    "* Po katerih regijah in krajih je največ interesa za sončne elektrarne in trend skozi leta \n",
    "* Moč sončnih elektrarn po regijah in trend skozi leta \n",
    "* Je več šibkejših ali močnejših sončnih elektrarn\n",
    "* Simetrično za samooskrbne sončne elektrarne \n",
    "* Primerjava rezultatov iz samooskrbe in ne samooskrbe"
   ]
  },
  {
   "cell_type": "markdown",
   "metadata": {},
   "source": [
    "## Sončne elektrarne v ne samooskrbi \n",
    "\n",
    "Kaj želim: \n",
    "* Pita in histogram/barchart števila sončnih elektrarn po letih in regijah \n",
    "* Spreminja skupnega števila sončnih elektrarn po letih po regijah (plotline)\n",
    "* Moč elektrarn:\n",
    "  * Skupna moč po letih, skupna moč po regijah\n",
    "  * Najmočnejša in najšibkejša regija \n",
    "  * Katero leto se je pridobilo največ in katero najmanj. Skupno in za regijo \n",
    "  * Povprečna moč, število močnejših in šibkejših \n",
    "* Ali se kak kraj znotraj regije pojavlja pogosteje"
   ]
  },
  {
   "cell_type": "markdown",
   "metadata": {},
   "source": [
    "## Sončne elektrarne v samooskrbi \n",
    "\n",
    "Simetrično prvemu razdelku"
   ]
  },
  {
   "cell_type": "markdown",
   "metadata": {},
   "source": [
    "## Zaključek \n",
    "\n",
    "Namen zakljlučka je primerjava rezultatov iz prejšnjih dveh poglavij. \n",
    "* Podobnosti in razlike po regijah in letih glede na število in moč \n",
    "* Ali upada število navadnih sončnih elektrarn in narašča število samooskrbnih ali obratno \n"
   ]
  },
  {
   "cell_type": "markdown",
   "metadata": {},
   "source": [
    "# Funkcije"
   ]
  },
  {
   "cell_type": "markdown",
   "metadata": {},
   "source": [
    "Tu so zbrane vse funkcije, ki sem si jih definiral za potrebe projektne naloge. Pri vsaki funkciji je tudi opis, kaj funkcija naredi."
   ]
  },
  {
   "cell_type": "code",
   "execution_count": 4,
   "metadata": {},
   "outputs": [],
   "source": [
    "def razpon_moci(dataframe):\n",
    "    najmanjsa_moc = dataframe.min()\n",
    "    najmanjsa_moc.columns = [\"Min moc [kW]\"]\n",
    "    najvecja_moc = dataframe.max()\n",
    "    najvecja_moc.columns = [\"Max moc [kW]\"]\n",
    "    povprecna_moc = dataframe.mean()\n",
    "    povprecna_moc.columns = [\"Mean moc [kW]\"]\n",
    "\n",
    "    razpon_moci = najmanjsa_moc.join(povprecna_moc, how = \"outer\")\n",
    "    razpon_moci = razpon_moci.join(najvecja_moc, how = \"outer\")\n",
    "    return razpon_moci"
   ]
  },
  {
   "cell_type": "markdown",
   "metadata": {},
   "source": [
    "Funkcija razpon_moci (dataframe) izračuna najmanjšo, povprečno in največjo moč sončne elektrarne v podanem dataframe-u glede na agregirane podatke. Podati moramo že zagregirane podatke."
   ]
  },
  {
   "cell_type": "code",
   "execution_count": 5,
   "metadata": {},
   "outputs": [],
   "source": [
    "def leta_regije (df):\n",
    "    leta = df.groupby(\"Leto\").size().index\n",
    "    regije = df.groupby(\"Regija\").size().index\n",
    "    tabela = []\n",
    "    for regija in regije:\n",
    "        tabela += [df[df[\"Regija\"] == regija].groupby(\"Leto\").size().tolist()]\n",
    "    tabela = pd.DataFrame(tabela)\n",
    "    tabela.columns = leta \n",
    "    tabela.index = regije\n",
    "    return tabela"
   ]
  },
  {
   "cell_type": "markdown",
   "metadata": {},
   "source": [
    "Funkcija leta_regije (df) pripravi tabelo, v kateri so indeksna polja rergije, stolpci pa leta. V posamezni celici je število zgrajenih sončnih elektraren v posameznem letu."
   ]
  },
  {
   "cell_type": "code",
   "execution_count": 6,
   "metadata": {},
   "outputs": [],
   "source": [
    "def sestej_do_sedaj(seznam): \n",
    "    for i in range (1, len(seznam)):\n",
    "        vsota = seznam[i - 1]\n",
    "        seznam[i] = vsota + seznam[i] \n",
    "    return seznam "
   ]
  },
  {
   "cell_type": "markdown",
   "metadata": {},
   "source": [
    "Funkcija sestej_do_sedaj pripravi seznam, na katerem je na posameznem mestu vsota vseh prejšnjih členov. Potrebujem jo pri izrisovanju spreminjanja sončnih elektraren skozi leta."
   ]
  },
  {
   "cell_type": "code",
   "execution_count": null,
   "metadata": {},
   "outputs": [],
   "source": [
    "def pari_kjer_vec(seznam_vrednosti, seznam_indeksov, vec_od):\n",
    "    pari = []\n",
    "    for i in range(len(seznam_vrednosti)):\n",
    "        if seznam_vrednosti[i] > vec_od: \n",
    "            pari += [(seznam_vrednosti[i], seznam_indeksov[i])]\n",
    "    return pari"
   ]
  },
  {
   "cell_type": "markdown",
   "metadata": {},
   "source": [
    "Funkcija pari_kje_vec poišče v katerem letu je bilo zgrajenih več kot vec_od elektraren in vrne seznam parov (št elektraren, leto)"
   ]
  },
  {
   "cell_type": "code",
   "execution_count": null,
   "metadata": {},
   "outputs": [],
   "source": [
    "def dva_seznama(seznam_parov):\n",
    "    seznam1 = [] \n",
    "    seznam2 = []\n",
    "    for element in seznam_parov: \n",
    "        seznam1.append(element[0])\n",
    "        seznam2.append(element[1])\n",
    "    return seznam1, seznam2"
   ]
  },
  {
   "cell_type": "markdown",
   "metadata": {},
   "source": [
    "Funkcija dva_seznama pripravi dva seznama iz seznama parov."
   ]
  },
  {
   "cell_type": "markdown",
   "metadata": {},
   "source": [
    "## 1. Sončne elektrarne v ne samooskrbi"
   ]
  },
  {
   "cell_type": "markdown",
   "metadata": {},
   "source": [
    "V tem razdelku bomo gledali samo tiste elektrarne, ki niso v samooskrbi, zato je treba najprej filtrirati izvirno tabelo."
   ]
  },
  {
   "cell_type": "code",
   "execution_count": 7,
   "metadata": {},
   "outputs": [],
   "source": [
    "podatki_ne_samooskrba = podatki[podatki[\"Ime\"] != \"Samooskrba\"]"
   ]
  },
  {
   "cell_type": "markdown",
   "metadata": {},
   "source": [
    "### 1.1 Regije in leta\n",
    "\n",
    "Podatke si združim na štiri načine in sicer po regiji, po letu izgradnje, po regiji in letu izgradnje in po kraju."
   ]
  },
  {
   "cell_type": "code",
   "execution_count": 8,
   "metadata": {},
   "outputs": [],
   "source": [
    "po_regijah = podatki_ne_samooskrba.groupby('Regija')\n",
    "po_letih = podatki_ne_samooskrba.groupby('Leto')\n",
    "po_regijah_letih = podatki_ne_samooskrba.groupby(['Regija', 'Leto'])\n",
    "po_krajih = podatki_ne_samooskrba.groupby(['Kraj'])"
   ]
  },
  {
   "cell_type": "markdown",
   "metadata": {},
   "source": [
    "Najprej si oglejmo, koliko sončnih elektraren je v posamezni regiji in kolikšen delež sončnih elektraren ima posamezna regija. Hkrati poglejmo tudi, koliko elektraren je bilo zgrajeno v posameznem letu in kako se je spreminjalo skupno število zgrajenih sončnih elektraren v Sloveniji in posamezni regiji."
   ]
  },
  {
   "cell_type": "code",
   "execution_count": 9,
   "metadata": {},
   "outputs": [
    {
     "data": {
      "text/plain": [
       "Regija\n",
       "Celjska              699\n",
       "Dolenjska            306\n",
       "Gorenjska            340\n",
       "Goriska              171\n",
       "OsrednjaSlovenija    538\n",
       "Podravje             793\n",
       "Prekmurje            363\n",
       "Primorska            179\n",
       "dtype: int64"
      ]
     },
     "execution_count": 9,
     "metadata": {},
     "output_type": "execute_result"
    }
   ],
   "source": [
    "st_po_regijah = po_regijah.size()\n",
    "st_po_regijah"
   ]
  },
  {
   "cell_type": "code",
   "execution_count": 10,
   "metadata": {},
   "outputs": [
    {
     "data": {
      "text/plain": [
       "<matplotlib.axes._subplots.AxesSubplot at 0xc6f0df0>"
      ]
     },
     "execution_count": 10,
     "metadata": {},
     "output_type": "execute_result"
    },
    {
     "data": {
      "image/png": "[encoded data removed]",
      "text/plain": [
       "<Figure size 432x288 with 1 Axes>"
      ]
     },
     "metadata": {},
     "output_type": "display_data"
    }
   ],
   "source": [
    "st_po_regijah.plot(kind = \"pie\", labels = st_po_regijah.index, autopct='%1.1f%%')"
   ]
  },
  {
   "cell_type": "code",
   "execution_count": 11,
   "metadata": {},
   "outputs": [
    {
     "data": {
      "text/plain": [
       "<matplotlib.axes._subplots.AxesSubplot at 0xd798a10>"
      ]
     },
     "execution_count": 11,
     "metadata": {},
     "output_type": "execute_result"
    },
    {
     "data": {
      "image/png": "[encoded data removed]",
      "text/plain": [
       "<Figure size 432x288 with 1 Axes>"
      ]
     },
     "metadata": {
      "needs_background": "light"
     },
     "output_type": "display_data"
    }
   ],
   "source": [
    "st_po_regijah.plot(kind = \"bar\")"
   ]
  },
  {
   "cell_type": "code",
   "execution_count": 12,
   "metadata": {},
   "outputs": [
    {
     "data": {
      "text/plain": [
       "<matplotlib.axes._subplots.AxesSubplot at 0xd808050>"
      ]
     },
     "execution_count": 12,
     "metadata": {},
     "output_type": "execute_result"
    },
    {
     "data": {
      "image/png": "[encoded data removed]",
      "text/plain": [
       "<Figure size 432x288 with 1 Axes>"
      ]
     },
     "metadata": {
      "needs_background": "light"
     },
     "output_type": "display_data"
    }
   ],
   "source": [
    "st_po_letih = po_letih.size()\n",
    "st_po_letih.plot(kind = \"bar\", logy = True)"
   ]
  },
  {
   "cell_type": "code",
   "execution_count": 13,
   "metadata": {
    "scrolled": true
   },
   "outputs": [
    {
     "data": {
      "text/plain": [
       "<matplotlib.axes._subplots.AxesSubplot at 0xd8f8770>"
      ]
     },
     "execution_count": 13,
     "metadata": {},
     "output_type": "execute_result"
    },
    {
     "data": {
      "image/png": "[encoded data removed]",
      "text/plain": [
       "<Figure size 432x288 with 1 Axes>"
      ]
     },
     "metadata": {
      "needs_background": "light"
     },
     "output_type": "display_data"
    }
   ],
   "source": [
    "leta = st_po_letih.index.tolist()\n",
    "sestej_po_letih = sestej_do_sedaj(st_po_letih.tolist())\n",
    "pd.DataFrame(sestej_po_letih, leta).plot(kind = \"line\", legend = False, grid = True)"
   ]
  },
  {
   "cell_type": "markdown",
   "metadata": {},
   "source": [
    "Iz grafa vidim, da je bil porast izgradnje sončnih elektraren med leti 2009 in 2013. Nato je izgradnja upadla, zato bom pogledal le deleže elektraren znotraj tega obdobja."
   ]
  },
  {
   "cell_type": "code",
   "execution_count": 16,
   "metadata": {},
   "outputs": [
    {
     "data": {
      "text/plain": [
       "([<matplotlib.patches.Wedge at 0xd99bad0>,\n",
       "  <matplotlib.patches.Wedge at 0xd99bdf0>,\n",
       "  <matplotlib.patches.Wedge at 0xd997230>,\n",
       "  <matplotlib.patches.Wedge at 0xd997630>,\n",
       "  <matplotlib.patches.Wedge at 0xd997b70>],\n",
       " [Text(1.0868779072161372, 0.16940016176341122, '2009'),\n",
       "  Text(0.6981150172248359, 0.8500796566941049, '2010'),\n",
       "  Text(-0.5227793644664764, 0.9678335270530916, '2011'),\n",
       "  Text(-0.630377609613154, -0.9014566375031059, '2012'),\n",
       "  Text(1.0228010956624314, -0.4048183774382411, '2013')],\n",
       " [Text(0.5928424948451657, 0.09240008823458794, '4.9%'),\n",
       "  Text(0.38079000939536506, 0.46367981274223896, '18.3%'),\n",
       "  Text(-0.285152380618078, 0.5279091965744135, '19.4%'),\n",
       "  Text(-0.34384233251626584, -0.4917036204562395, '45.4%'),\n",
       "  Text(0.5578915067249625, -0.22081002405722241, '12.0%')])"
      ]
     },
     "execution_count": 16,
     "metadata": {},
     "output_type": "execute_result"
    },
    {
     "data": {
      "image/png": "[encoded data removed]",
      "text/plain": [
       "<Figure size 432x288 with 1 Axes>"
      ]
     },
     "metadata": {},
     "output_type": "display_data"
    }
   ],
   "source": [
    "razdeljeno = dva_seznama(pari_kjer_vec(st_po_letih.tolist(), st_po_letih.index.tolist(), 100))\n",
    "vrednosti = razdeljeno[0] \n",
    "indeksi = razdeljeno[1]\n",
    "plt.pie(vrednosti, labels=indeksi, autopct='%1.1f%%')"
   ]
  },
  {
   "cell_type": "markdown",
   "metadata": {},
   "source": [
    "Videti je torej, da po izgradnji sončnih elektraren prevladuje leto 2012. Po tem letu je izgradnja sončnih elektraren upadla in se je kot je razvidno iz grafa2, spet zelo zmajnšala."
   ]
  },
  {
   "cell_type": "markdown",
   "metadata": {},
   "source": [
    "Vodilno leto po izgradnji sončnih elektraren je bilo torej leto 2012. Sedaj me zanima še, kako je delež zgrajenih sončnih elektraren v tem letu razdeljen znotraj regij. Pogledal bom zgolj razporeditev med leti 2010 in 2013, saj je bil takrat največji porast."
   ]
  },
  {
   "cell_type": "code",
   "execution_count": 17,
   "metadata": {},
   "outputs": [
    {
     "data": {
      "text/plain": [
       "<matplotlib.axes._subplots.AxesSubplot at 0xd984910>"
      ]
     },
     "execution_count": 17,
     "metadata": {},
     "output_type": "execute_result"
    },
    {
     "data": {
      "image/png": "[encoded data removed]",
      "text/plain": [
       "<Figure size 432x288 with 1 Axes>"
      ]
     },
     "metadata": {
      "needs_background": "light"
     },
     "output_type": "display_data"
    }
   ],
   "source": [
    "leta_regije(podatki_ne_samooskrba[podatki_ne_samooskrba[\"Leto\"].between(2010, 2013)]).plot(kind = \"bar\")"
   ]
  },
  {
   "cell_type": "markdown",
   "metadata": {},
   "source": [
    "Pričakovano glede na razporeditev sončnih elektraren je bil največji porast v podravski in celjski regiji. Razlika med regijami je tako velika, da je npr. v letu 2012 ko je imela goriška največjo izgradnjo, le ta še vedno manjši od najmanjšega števila zgrajeih sončnih elektraren v podravski regiji."
   ]
  },
  {
   "cell_type": "markdown",
   "metadata": {},
   "source": [
    "### 1.2 Moč sončnih elektraren"
   ]
  },
  {
   "cell_type": "markdown",
   "metadata": {},
   "source": [
    "V tem razdelku si bom ogledal kakšne so moči sončnih elektraren, katere regije imajo skupno več in katere manj skupne moči sončnih elektraren in kakšne so moči po letih"
   ]
  },
  {
   "cell_type": "code",
   "execution_count": 18,
   "metadata": {
    "scrolled": true
   },
   "outputs": [
    {
     "data": {
      "text/html": [
       "<div>\n",
       "<style scoped>\n",
       "    .dataframe tbody tr th:only-of-type {\n",
       "        vertical-align: middle;\n",
       "    }\n",
       "\n",
       "    .dataframe tbody tr th {\n",
       "        vertical-align: top;\n",
       "    }\n",
       "\n",
       "    .dataframe thead th {\n",
       "        text-align: right;\n",
       "    }\n",
       "</style>\n",
       "<table border=\"1\" class=\"dataframe\">\n",
       "  <thead>\n",
       "    <tr style=\"text-align: right;\">\n",
       "      <th></th>\n",
       "      <th>Moc [kW]</th>\n",
       "    </tr>\n",
       "    <tr>\n",
       "      <th>Regija</th>\n",
       "      <th></th>\n",
       "    </tr>\n",
       "  </thead>\n",
       "  <tbody>\n",
       "    <tr>\n",
       "      <td>Celjska</td>\n",
       "      <td>45063.99</td>\n",
       "    </tr>\n",
       "    <tr>\n",
       "      <td>Dolenjska</td>\n",
       "      <td>28826.07</td>\n",
       "    </tr>\n",
       "    <tr>\n",
       "      <td>Gorenjska</td>\n",
       "      <td>19219.46</td>\n",
       "    </tr>\n",
       "    <tr>\n",
       "      <td>Goriska</td>\n",
       "      <td>18507.11</td>\n",
       "    </tr>\n",
       "    <tr>\n",
       "      <td>OsrednjaSlovenija</td>\n",
       "      <td>40411.80</td>\n",
       "    </tr>\n",
       "    <tr>\n",
       "      <td>Podravje</td>\n",
       "      <td>67019.20</td>\n",
       "    </tr>\n",
       "    <tr>\n",
       "      <td>Prekmurje</td>\n",
       "      <td>23663.47</td>\n",
       "    </tr>\n",
       "    <tr>\n",
       "      <td>Primorska</td>\n",
       "      <td>16833.97</td>\n",
       "    </tr>\n",
       "  </tbody>\n",
       "</table>\n",
       "</div>"
      ],
      "text/plain": [
       "                   Moc [kW]\n",
       "Regija                     \n",
       "Celjska            45063.99\n",
       "Dolenjska          28826.07\n",
       "Gorenjska          19219.46\n",
       "Goriska            18507.11\n",
       "OsrednjaSlovenija  40411.80\n",
       "Podravje           67019.20\n",
       "Prekmurje          23663.47\n",
       "Primorska          16833.97"
      ]
     },
     "execution_count": 18,
     "metadata": {},
     "output_type": "execute_result"
    }
   ],
   "source": [
    "skupna_moc_regije = podatki_ne_samooskrba[[\"Regija\", \"Moc [kW]\"]].groupby(\"Regija\").sum()\n",
    "skupna_moc_regije"
   ]
  },
  {
   "cell_type": "code",
   "execution_count": 19,
   "metadata": {},
   "outputs": [
    {
     "data": {
      "text/plain": [
       "<matplotlib.axes._subplots.AxesSubplot at 0xdac4130>"
      ]
     },
     "execution_count": 19,
     "metadata": {},
     "output_type": "execute_result"
    },
    {
     "data": {
      "image/png": "[encoded data removed]",
      "text/plain": [
       "<Figure size 432x288 with 1 Axes>"
      ]
     },
     "metadata": {},
     "output_type": "display_data"
    }
   ],
   "source": [
    "skupna_moc_regije[\"Moc [kW]\"].plot(kind = \"pie\", labels = skupna_moc_regije.index, autopct='%1.1f%%')"
   ]
  },
  {
   "cell_type": "markdown",
   "metadata": {},
   "source": [
    "Pričakovano ima podravska regija največjo skupno moč sončnih elektraren, saj ima tudi največji delež zgrajenih sončnih elektraren."
   ]
  },
  {
   "cell_type": "code",
   "execution_count": 20,
   "metadata": {},
   "outputs": [],
   "source": [
    "moc_regije = podatki_ne_samooskrba[[\"Regija\", \"Moc [kW]\"]].groupby(\"Regija\")"
   ]
  },
  {
   "cell_type": "code",
   "execution_count": 21,
   "metadata": {},
   "outputs": [
    {
     "data": {
      "text/html": [
       "<div>\n",
       "<style scoped>\n",
       "    .dataframe tbody tr th:only-of-type {\n",
       "        vertical-align: middle;\n",
       "    }\n",
       "\n",
       "    .dataframe tbody tr th {\n",
       "        vertical-align: top;\n",
       "    }\n",
       "\n",
       "    .dataframe thead th {\n",
       "        text-align: right;\n",
       "    }\n",
       "</style>\n",
       "<table border=\"1\" class=\"dataframe\">\n",
       "  <thead>\n",
       "    <tr style=\"text-align: right;\">\n",
       "      <th></th>\n",
       "      <th>Moc [kW]</th>\n",
       "    </tr>\n",
       "    <tr>\n",
       "      <th>Regija</th>\n",
       "      <th></th>\n",
       "    </tr>\n",
       "  </thead>\n",
       "  <tbody>\n",
       "    <tr>\n",
       "      <td>Celjska</td>\n",
       "      <td>64.469227</td>\n",
       "    </tr>\n",
       "    <tr>\n",
       "      <td>Dolenjska</td>\n",
       "      <td>94.202843</td>\n",
       "    </tr>\n",
       "    <tr>\n",
       "      <td>Gorenjska</td>\n",
       "      <td>56.527824</td>\n",
       "    </tr>\n",
       "    <tr>\n",
       "      <td>Goriska</td>\n",
       "      <td>108.228713</td>\n",
       "    </tr>\n",
       "    <tr>\n",
       "      <td>OsrednjaSlovenija</td>\n",
       "      <td>75.114870</td>\n",
       "    </tr>\n",
       "    <tr>\n",
       "      <td>Podravje</td>\n",
       "      <td>84.513493</td>\n",
       "    </tr>\n",
       "    <tr>\n",
       "      <td>Prekmurje</td>\n",
       "      <td>65.188623</td>\n",
       "    </tr>\n",
       "    <tr>\n",
       "      <td>Primorska</td>\n",
       "      <td>94.044525</td>\n",
       "    </tr>\n",
       "  </tbody>\n",
       "</table>\n",
       "</div>"
      ],
      "text/plain": [
       "                     Moc [kW]\n",
       "Regija                       \n",
       "Celjska             64.469227\n",
       "Dolenjska           94.202843\n",
       "Gorenjska           56.527824\n",
       "Goriska            108.228713\n",
       "OsrednjaSlovenija   75.114870\n",
       "Podravje            84.513493\n",
       "Prekmurje           65.188623\n",
       "Primorska           94.044525"
      ]
     },
     "execution_count": 21,
     "metadata": {},
     "output_type": "execute_result"
    }
   ],
   "source": [
    "povprecna_moc_regije = moc_regije.mean()\n",
    "povprecna_moc_regije"
   ]
  },
  {
   "cell_type": "markdown",
   "metadata": {},
   "source": [
    "Zanimivom je, da imata Goriška in Primorska, kljub najnižjemu skupnemu deležu moči, v povprečju najmočnejše sončne elektrarne. V histogramu ki sledi, sta prikazana skupna in povprečna moč po posamezni regiji. "
   ]
  },
  {
   "cell_type": "code",
   "execution_count": 22,
   "metadata": {},
   "outputs": [
    {
     "data": {
      "text/plain": [
       "<matplotlib.axes._subplots.AxesSubplot at 0xc6ff590>"
      ]
     },
     "execution_count": 22,
     "metadata": {},
     "output_type": "execute_result"
    },
    {
     "data": {
      "image/png": "[encoded data removed]",
      "text/plain": [
       "<Figure size 432x288 with 1 Axes>"
      ]
     },
     "metadata": {
      "needs_background": "light"
     },
     "output_type": "display_data"
    }
   ],
   "source": [
    "povprecna_moc_regije.plot(kind = \"bar\")"
   ]
  },
  {
   "cell_type": "markdown",
   "metadata": {},
   "source": [
    "Kar se tiče skupne moči po letih, pričakujem da je največja moč leta 2012, ko je bilo tudi zgrajenih največ elektraren. Kako je pa z najmanjšimi, povprečnimi in največjimi močmi sončnih elektraren? Ali imajo regije z največjo povprečno moč sončnih elektraren tudi najmočnejše sončne elektrarne in obratno?"
   ]
  },
  {
   "cell_type": "code",
   "execution_count": 23,
   "metadata": {},
   "outputs": [
    {
     "data": {
      "text/plain": [
       "<matplotlib.axes._subplots.AxesSubplot at 0xb64df90>"
      ]
     },
     "execution_count": 23,
     "metadata": {},
     "output_type": "execute_result"
    },
    {
     "data": {
      "image/png": "[encoded data removed]",
      "text/plain": [
       "<Figure size 432x288 with 1 Axes>"
      ]
     },
     "metadata": {
      "needs_background": "light"
     },
     "output_type": "display_data"
    }
   ],
   "source": [
    "razpon_moci(moc_regije).plot(kind = \"bar\", logy = True)"
   ]
  },
  {
   "cell_type": "markdown",
   "metadata": {},
   "source": [
    "Zgornji graf ima na y logaritemsko skalo"
   ]
  },
  {
   "cell_type": "markdown",
   "metadata": {},
   "source": [
    "Videti je, da imajo regije približno enako močne najmočnejše sončne elektrarne in tudi povprečja so primerljiva. Tudi pri najšibkejših sončnih elektrarnah ta razlika ni velika (nekaj kW)."
   ]
  },
  {
   "cell_type": "code",
   "execution_count": 24,
   "metadata": {},
   "outputs": [],
   "source": [
    "skupna_moc_leta = podatki_ne_samooskrba[[\"Leto\", \"Moc [kW]\"]].groupby(\"Leto\").sum()"
   ]
  },
  {
   "cell_type": "code",
   "execution_count": 25,
   "metadata": {},
   "outputs": [
    {
     "data": {
      "text/html": [
       "<div>\n",
       "<style scoped>\n",
       "    .dataframe tbody tr th:only-of-type {\n",
       "        vertical-align: middle;\n",
       "    }\n",
       "\n",
       "    .dataframe tbody tr th {\n",
       "        vertical-align: top;\n",
       "    }\n",
       "\n",
       "    .dataframe thead th {\n",
       "        text-align: right;\n",
       "    }\n",
       "</style>\n",
       "<table border=\"1\" class=\"dataframe\">\n",
       "  <thead>\n",
       "    <tr style=\"text-align: right;\">\n",
       "      <th></th>\n",
       "      <th>Moc [kW]</th>\n",
       "    </tr>\n",
       "    <tr>\n",
       "      <th>Leto</th>\n",
       "      <th></th>\n",
       "    </tr>\n",
       "  </thead>\n",
       "  <tbody>\n",
       "    <tr>\n",
       "      <td>2001</td>\n",
       "      <td>1.10</td>\n",
       "    </tr>\n",
       "    <tr>\n",
       "      <td>2003</td>\n",
       "      <td>4.50</td>\n",
       "    </tr>\n",
       "    <tr>\n",
       "      <td>2004</td>\n",
       "      <td>7.50</td>\n",
       "    </tr>\n",
       "    <tr>\n",
       "      <td>2005</td>\n",
       "      <td>73.85</td>\n",
       "    </tr>\n",
       "    <tr>\n",
       "      <td>2006</td>\n",
       "      <td>117.00</td>\n",
       "    </tr>\n",
       "    <tr>\n",
       "      <td>...</td>\n",
       "      <td>...</td>\n",
       "    </tr>\n",
       "    <tr>\n",
       "      <td>2014</td>\n",
       "      <td>2730.08</td>\n",
       "    </tr>\n",
       "    <tr>\n",
       "      <td>2015</td>\n",
       "      <td>261.70</td>\n",
       "    </tr>\n",
       "    <tr>\n",
       "      <td>2016</td>\n",
       "      <td>1105.67</td>\n",
       "    </tr>\n",
       "    <tr>\n",
       "      <td>2017</td>\n",
       "      <td>44.00</td>\n",
       "    </tr>\n",
       "    <tr>\n",
       "      <td>2018</td>\n",
       "      <td>420.22</td>\n",
       "    </tr>\n",
       "  </tbody>\n",
       "</table>\n",
       "<p>17 rows × 1 columns</p>\n",
       "</div>"
      ],
      "text/plain": [
       "      Moc [kW]\n",
       "Leto          \n",
       "2001      1.10\n",
       "2003      4.50\n",
       "2004      7.50\n",
       "2005     73.85\n",
       "2006    117.00\n",
       "...        ...\n",
       "2014   2730.08\n",
       "2015    261.70\n",
       "2016   1105.67\n",
       "2017     44.00\n",
       "2018    420.22\n",
       "\n",
       "[17 rows x 1 columns]"
      ]
     },
     "execution_count": 25,
     "metadata": {},
     "output_type": "execute_result"
    }
   ],
   "source": [
    "skupna_moc_leta"
   ]
  },
  {
   "cell_type": "code",
   "execution_count": 26,
   "metadata": {},
   "outputs": [
    {
     "data": {
      "text/plain": [
       "<matplotlib.axes._subplots.AxesSubplot at 0xd8f8f90>"
      ]
     },
     "execution_count": 26,
     "metadata": {},
     "output_type": "execute_result"
    },
    {
     "data": {
      "image/png": "[encoded data removed]",
      "text/plain": [
       "<Figure size 432x288 with 1 Axes>"
      ]
     },
     "metadata": {
      "needs_background": "light"
     },
     "output_type": "display_data"
    }
   ],
   "source": [
    "skupna_moc_leta.plot(kind = \"bar\", logy = True)"
   ]
  },
  {
   "cell_type": "markdown",
   "metadata": {},
   "source": [
    "Kot sem pričakoval, je bila največja skupna moč sončnih elektraren leta 2012. Sedaj me zanima še, kako je s povprečnimi močmi skozi leta."
   ]
  },
  {
   "cell_type": "code",
   "execution_count": 27,
   "metadata": {},
   "outputs": [],
   "source": [
    "moc_leta = podatki_ne_samooskrba[[\"Leto\", \"Moc [kW]\"]].groupby(\"Leto\")"
   ]
  },
  {
   "cell_type": "code",
   "execution_count": 28,
   "metadata": {},
   "outputs": [
    {
     "data": {
      "text/html": [
       "<div>\n",
       "<style scoped>\n",
       "    .dataframe tbody tr th:only-of-type {\n",
       "        vertical-align: middle;\n",
       "    }\n",
       "\n",
       "    .dataframe tbody tr th {\n",
       "        vertical-align: top;\n",
       "    }\n",
       "\n",
       "    .dataframe thead th {\n",
       "        text-align: right;\n",
       "    }\n",
       "</style>\n",
       "<table border=\"1\" class=\"dataframe\">\n",
       "  <thead>\n",
       "    <tr style=\"text-align: right;\">\n",
       "      <th></th>\n",
       "      <th>Moc [kW]</th>\n",
       "    </tr>\n",
       "    <tr>\n",
       "      <th>Leto</th>\n",
       "      <th></th>\n",
       "    </tr>\n",
       "  </thead>\n",
       "  <tbody>\n",
       "    <tr>\n",
       "      <td>2001</td>\n",
       "      <td>1.100000</td>\n",
       "    </tr>\n",
       "    <tr>\n",
       "      <td>2003</td>\n",
       "      <td>4.500000</td>\n",
       "    </tr>\n",
       "    <tr>\n",
       "      <td>2004</td>\n",
       "      <td>7.500000</td>\n",
       "    </tr>\n",
       "    <tr>\n",
       "      <td>2005</td>\n",
       "      <td>12.308333</td>\n",
       "    </tr>\n",
       "    <tr>\n",
       "      <td>2006</td>\n",
       "      <td>23.400000</td>\n",
       "    </tr>\n",
       "    <tr>\n",
       "      <td>...</td>\n",
       "      <td>...</td>\n",
       "    </tr>\n",
       "    <tr>\n",
       "      <td>2014</td>\n",
       "      <td>54.601600</td>\n",
       "    </tr>\n",
       "    <tr>\n",
       "      <td>2015</td>\n",
       "      <td>65.425000</td>\n",
       "    </tr>\n",
       "    <tr>\n",
       "      <td>2016</td>\n",
       "      <td>221.134000</td>\n",
       "    </tr>\n",
       "    <tr>\n",
       "      <td>2017</td>\n",
       "      <td>44.000000</td>\n",
       "    </tr>\n",
       "    <tr>\n",
       "      <td>2018</td>\n",
       "      <td>84.044000</td>\n",
       "    </tr>\n",
       "  </tbody>\n",
       "</table>\n",
       "<p>17 rows × 1 columns</p>\n",
       "</div>"
      ],
      "text/plain": [
       "        Moc [kW]\n",
       "Leto            \n",
       "2001    1.100000\n",
       "2003    4.500000\n",
       "2004    7.500000\n",
       "2005   12.308333\n",
       "2006   23.400000\n",
       "...          ...\n",
       "2014   54.601600\n",
       "2015   65.425000\n",
       "2016  221.134000\n",
       "2017   44.000000\n",
       "2018   84.044000\n",
       "\n",
       "[17 rows x 1 columns]"
      ]
     },
     "execution_count": 28,
     "metadata": {},
     "output_type": "execute_result"
    }
   ],
   "source": [
    "povprecna_moc_leta = moc_leta.mean()\n",
    "povprecna_moc_leta"
   ]
  },
  {
   "cell_type": "code",
   "execution_count": 29,
   "metadata": {},
   "outputs": [
    {
     "data": {
      "text/plain": [
       "<matplotlib.axes._subplots.AxesSubplot at 0xddcdcd0>"
      ]
     },
     "execution_count": 29,
     "metadata": {},
     "output_type": "execute_result"
    },
    {
     "data": {
      "image/png": "[encoded data removed]",
      "text/plain": [
       "<Figure size 432x288 with 1 Axes>"
      ]
     },
     "metadata": {
      "needs_background": "light"
     },
     "output_type": "display_data"
    }
   ],
   "source": [
    "povprecna_moc_leta.plot(kind = \"bar\")"
   ]
  },
  {
   "cell_type": "markdown",
   "metadata": {},
   "source": [
    "Zanimivo tudi tu, leta 2012 ko je bila sicer skupna moč največja, ni bila tudi povprečna moč največja. Ta je bila leta 2016. Iz histograma je tudi razvidno, da se je v letih 2001 - 2011 povprečna moč sončnih elektraren povečevala, nato pa se spet malenkost spustila, z izjemo leta 2016. \n",
    "\n",
    "Pogledal si bom še moči najmočnejše in najšibkejše sončne elektrarne skupaj s povprečno močjo skozi leta."
   ]
  },
  {
   "cell_type": "code",
   "execution_count": 30,
   "metadata": {},
   "outputs": [
    {
     "data": {
      "text/plain": [
       "<matplotlib.axes._subplots.AxesSubplot at 0xdc9c450>"
      ]
     },
     "execution_count": 30,
     "metadata": {},
     "output_type": "execute_result"
    },
    {
     "data": {
      "image/png": "[encoded data removed]",
      "text/plain": [
       "<Figure size 432x288 with 1 Axes>"
      ]
     },
     "metadata": {
      "needs_background": "light"
     },
     "output_type": "display_data"
    }
   ],
   "source": [
    "razpon_moci(moc_leta).plot(kind = \"bar\", logy = True)"
   ]
  },
  {
   "cell_type": "markdown",
   "metadata": {},
   "source": [
    "Zgornji graf ima na y osi logaritemsko skalo."
   ]
  },
  {
   "cell_type": "markdown",
   "metadata": {},
   "source": [
    "Videti je, da so se najmočnejše sončne elektrarne grafile v letih 2009 - 2013. To je pa ravno takrat, ko je bilo zgrajenih tudi največ sončnih elektraren. "
   ]
  },
  {
   "cell_type": "markdown",
   "metadata": {},
   "source": [
    "### 1.3 Kraji znotraj regij"
   ]
  },
  {
   "cell_type": "markdown",
   "metadata": {},
   "source": [
    "V tem razdelku si bom pogledal, ali kakšen kraj v kakšni regiji izstopa. To pomeni, da je tam zgrajenih več oziroma večina sončnih elektraren. "
   ]
  },
  {
   "cell_type": "code",
   "execution_count": 31,
   "metadata": {},
   "outputs": [
    {
     "data": {
      "text/plain": [
       "Kraj\n",
       "Maribor                   99\n",
       "Ljubljana                 97\n",
       "Ptuj                      87\n",
       "Celje                     81\n",
       "Murska Sobota             73\n",
       "                          ..\n",
       "Sv. Duh na Ostrem Vrhu     1\n",
       "Lenclava                   1\n",
       "Stanjel                    1\n",
       "Stahovoca                  1\n",
       "Pesnica pri Manboru        1\n",
       "Length: 458, dtype: int64"
      ]
     },
     "execution_count": 31,
     "metadata": {},
     "output_type": "execute_result"
    }
   ],
   "source": [
    "podatki_ne_samooskrba.groupby(\"Kraj\").size().sort_values(ascending = False)"
   ]
  },
  {
   "cell_type": "markdown",
   "metadata": {},
   "source": [
    "Pričakovano so v vrhu večja slovenska mesta. Kaj pa tik pod njimi? To bom preveril z barchartom ki bo prikazoval število sončnih elektraren v prvih 15 slovenskih krajih glede na število zgrajenih sončnih elektraren."
   ]
  },
  {
   "cell_type": "code",
   "execution_count": 32,
   "metadata": {},
   "outputs": [
    {
     "data": {
      "text/plain": [
       "<matplotlib.axes._subplots.AxesSubplot at 0xdfda330>"
      ]
     },
     "execution_count": 32,
     "metadata": {},
     "output_type": "execute_result"
    },
    {
     "data": {
      "image/png": "[encoded data removed]",
      "text/plain": [
       "<Figure size 432x288 with 1 Axes>"
      ]
     },
     "metadata": {
      "needs_background": "light"
     },
     "output_type": "display_data"
    }
   ],
   "source": [
    "podatki_ne_samooskrba.groupby(\"Kraj\").size().sort_values(ascending = False).head(15).plot(kind=\"bar\")"
   ]
  },
  {
   "cell_type": "markdown",
   "metadata": {},
   "source": [
    "Vidim, da se v prvih 15 mestih po številu sončnih elektraren pojavljajo tudi manjša mesta, ki imajo presenetljivo veliko število ne samooskrbnih sončnih elektraren."
   ]
  },
  {
   "cell_type": "markdown",
   "metadata": {},
   "source": [
    "## 2. Sončne elektrarne v samooskrbi "
   ]
  },
  {
   "cell_type": "markdown",
   "metadata": {},
   "source": [
    "V tem razdelku si bom analiziral zgolj samooskrbne sončne elektrarne, to so tiste ki ima pod ime navedeno \"Samooskrba\". Razdelek bo potekal simetrično prejšnjemu"
   ]
  },
  {
   "cell_type": "code",
   "execution_count": 33,
   "metadata": {},
   "outputs": [
    {
     "data": {
      "text/html": [
       "<div>\n",
       "<style scoped>\n",
       "    .dataframe tbody tr th:only-of-type {\n",
       "        vertical-align: middle;\n",
       "    }\n",
       "\n",
       "    .dataframe tbody tr th {\n",
       "        vertical-align: top;\n",
       "    }\n",
       "\n",
       "    .dataframe thead th {\n",
       "        text-align: right;\n",
       "    }\n",
       "</style>\n",
       "<table border=\"1\" class=\"dataframe\">\n",
       "  <thead>\n",
       "    <tr style=\"text-align: right;\">\n",
       "      <th></th>\n",
       "      <th>Ime</th>\n",
       "      <th>Kraj</th>\n",
       "      <th>Leto</th>\n",
       "      <th>Moc [kW]</th>\n",
       "      <th>Regija</th>\n",
       "    </tr>\n",
       "  </thead>\n",
       "  <tbody>\n",
       "    <tr>\n",
       "      <td>0</td>\n",
       "      <td>Samooskrba</td>\n",
       "      <td>ŽALEC</td>\n",
       "      <td>2016</td>\n",
       "      <td>2.78</td>\n",
       "      <td>Celjska</td>\n",
       "    </tr>\n",
       "    <tr>\n",
       "      <td>1</td>\n",
       "      <td>Samooskrba</td>\n",
       "      <td>PODPLAT</td>\n",
       "      <td>2016</td>\n",
       "      <td>3.58</td>\n",
       "      <td>Celjska</td>\n",
       "    </tr>\n",
       "    <tr>\n",
       "      <td>2</td>\n",
       "      <td>Samooskrba</td>\n",
       "      <td>NAZARJE</td>\n",
       "      <td>2016</td>\n",
       "      <td>11.00</td>\n",
       "      <td>Celjska</td>\n",
       "    </tr>\n",
       "    <tr>\n",
       "      <td>3</td>\n",
       "      <td>Samooskrba</td>\n",
       "      <td>LESIČNO</td>\n",
       "      <td>2016</td>\n",
       "      <td>7.00</td>\n",
       "      <td>Celjska</td>\n",
       "    </tr>\n",
       "    <tr>\n",
       "      <td>4</td>\n",
       "      <td>Samooskrba</td>\n",
       "      <td>ŠTORE</td>\n",
       "      <td>2016</td>\n",
       "      <td>11.00</td>\n",
       "      <td>Celjska</td>\n",
       "    </tr>\n",
       "    <tr>\n",
       "      <td>...</td>\n",
       "      <td>...</td>\n",
       "      <td>...</td>\n",
       "      <td>...</td>\n",
       "      <td>...</td>\n",
       "      <td>...</td>\n",
       "    </tr>\n",
       "    <tr>\n",
       "      <td>2133</td>\n",
       "      <td>Samooskrba</td>\n",
       "      <td>Koper/Capodistria</td>\n",
       "      <td>2018</td>\n",
       "      <td>7.29</td>\n",
       "      <td>Primorska</td>\n",
       "    </tr>\n",
       "    <tr>\n",
       "      <td>2134</td>\n",
       "      <td>Samooskrba</td>\n",
       "      <td>Planina</td>\n",
       "      <td>2018</td>\n",
       "      <td>10.00</td>\n",
       "      <td>Primorska</td>\n",
       "    </tr>\n",
       "    <tr>\n",
       "      <td>2135</td>\n",
       "      <td>Samooskrba</td>\n",
       "      <td>Ilirska Bistrica</td>\n",
       "      <td>2018</td>\n",
       "      <td>10.00</td>\n",
       "      <td>Primorska</td>\n",
       "    </tr>\n",
       "    <tr>\n",
       "      <td>2136</td>\n",
       "      <td>Samooskrba</td>\n",
       "      <td>Ilirska Bistrica</td>\n",
       "      <td>2018</td>\n",
       "      <td>10.00</td>\n",
       "      <td>Primorska</td>\n",
       "    </tr>\n",
       "    <tr>\n",
       "      <td>2137</td>\n",
       "      <td>Samooskrba</td>\n",
       "      <td>Koper/Capodistria</td>\n",
       "      <td>2018</td>\n",
       "      <td>10.00</td>\n",
       "      <td>Primorska</td>\n",
       "    </tr>\n",
       "  </tbody>\n",
       "</table>\n",
       "<p>2138 rows × 5 columns</p>\n",
       "</div>"
      ],
      "text/plain": [
       "             Ime               Kraj  Leto  Moc [kW]     Regija\n",
       "0     Samooskrba              ŽALEC  2016      2.78    Celjska\n",
       "1     Samooskrba            PODPLAT  2016      3.58    Celjska\n",
       "2     Samooskrba            NAZARJE  2016     11.00    Celjska\n",
       "3     Samooskrba            LESIČNO  2016      7.00    Celjska\n",
       "4     Samooskrba              ŠTORE  2016     11.00    Celjska\n",
       "...          ...                ...   ...       ...        ...\n",
       "2133  Samooskrba  Koper/Capodistria  2018      7.29  Primorska\n",
       "2134  Samooskrba            Planina  2018     10.00  Primorska\n",
       "2135  Samooskrba   Ilirska Bistrica  2018     10.00  Primorska\n",
       "2136  Samooskrba   Ilirska Bistrica  2018     10.00  Primorska\n",
       "2137  Samooskrba  Koper/Capodistria  2018     10.00  Primorska\n",
       "\n",
       "[2138 rows x 5 columns]"
      ]
     },
     "execution_count": 33,
     "metadata": {},
     "output_type": "execute_result"
    }
   ],
   "source": [
    "podatki_samooskrba = podatki[podatki[\"Ime\"] == \"Samooskrba\"]\n",
    "podatki_samooskrba"
   ]
  },
  {
   "cell_type": "markdown",
   "metadata": {},
   "source": [
    "### 2.1 Regije in leta\n",
    "\n",
    "Na enak način kot prej, si podatke zagregiram po regijah, letih, regijah in letih in po krajih. "
   ]
  },
  {
   "cell_type": "code",
   "execution_count": 34,
   "metadata": {},
   "outputs": [],
   "source": [
    "po_regijah_samooskrba = podatki_samooskrba.groupby(\"Regija\")\n",
    "po_letih_samooskrba = podatki_samooskrba.groupby(\"Leto\")\n",
    "po_regijah_letih_samooskrba = podatki_samooskrba.groupby([\"Regija\", \"Leto\"])\n",
    "po_krajih_samooskrba = podatki_samooskrba.groupby(\"Kraj\")"
   ]
  },
  {
   "cell_type": "markdown",
   "metadata": {},
   "source": [
    "Spet si bom najprej ogledal delež samooskrbnih sončnih elektraren po posameznih regijah. "
   ]
  },
  {
   "cell_type": "code",
   "execution_count": 35,
   "metadata": {},
   "outputs": [
    {
     "data": {
      "text/plain": [
       "Regija\n",
       "Celjska              274\n",
       "Dolenjska            205\n",
       "Gorenjska            241\n",
       "Goriska               83\n",
       "OsrednjaSlovenija    492\n",
       "Podravje             532\n",
       "Prekmurje            189\n",
       "Primorska            122\n",
       "dtype: int64"
      ]
     },
     "execution_count": 35,
     "metadata": {},
     "output_type": "execute_result"
    }
   ],
   "source": [
    "st_po_regijah_samooskrba = po_regijah_samooskrba.size()\n",
    "st_po_regijah_samooskrba"
   ]
  },
  {
   "cell_type": "code",
   "execution_count": 36,
   "metadata": {},
   "outputs": [
    {
     "data": {
      "text/plain": [
       "<matplotlib.axes._subplots.AxesSubplot at 0xdc9a650>"
      ]
     },
     "execution_count": 36,
     "metadata": {},
     "output_type": "execute_result"
    },
    {
     "data": {
      "image/png": "[encoded data removed]",
      "text/plain": [
       "<Figure size 432x288 with 1 Axes>"
      ]
     },
     "metadata": {},
     "output_type": "display_data"
    }
   ],
   "source": [
    "st_po_regijah_samooskrba.plot(kind = \"pie\", labels = st_po_regijah_samooskrba.index, autopct='%1.1f%%')"
   ]
  },
  {
   "cell_type": "markdown",
   "metadata": {},
   "source": [
    "Vidim, da tudi v primeru samooskrbe po izgradnji sončnih elektraren prevladuje Podravska regija. Osrednjeslovenska regija ima malenkost manjši odstotek kot podrarvska regija, a še vedno bistveno večji kot ostale regije."
   ]
  },
  {
   "cell_type": "markdown",
   "metadata": {},
   "source": [
    "Sedaj me zanima še, kako se je spreminjalo število zgrajenih sončnih elektraren skozi leta. Spet bom najprej izrisal kako se je spreminjalo število sončnih elektraren skozi čas."
   ]
  },
  {
   "cell_type": "code",
   "execution_count": 37,
   "metadata": {},
   "outputs": [
    {
     "data": {
      "text/plain": [
       "<matplotlib.axes._subplots.AxesSubplot at 0xde6aef0>"
      ]
     },
     "execution_count": 37,
     "metadata": {},
     "output_type": "execute_result"
    },
    {
     "data": {
      "image/png": "[encoded data removed]",
      "text/plain": [
       "<Figure size 432x288 with 1 Axes>"
      ]
     },
     "metadata": {
      "needs_background": "light"
     },
     "output_type": "display_data"
    }
   ],
   "source": [
    "st_po_letih_samooskrba = po_letih_samooskrba.size()\n",
    "leta = st_po_letih_samooskrba.index.tolist()\n",
    "sestej_po_letih_samooskrba = sestej_do_sedaj(st_po_letih_samooskrba.tolist())\n",
    "pd.DataFrame(sestej_po_letih_samooskrba, leta).plot(kind = \"line\", xticks = leta, grid = True)"
   ]
  },
  {
   "cell_type": "markdown",
   "metadata": {},
   "source": [
    "Ker so v tabeli zbrane le samooskrbe sončne elektrane, zgrajene v letu 2016 in kasneje, mi ta črtni diagram ne pove veliko. Zato si bom raje narisal stolpični diagram in tako primerjal število zgrajenih sončnih elektraren v teh 3 letih."
   ]
  },
  {
   "cell_type": "code",
   "execution_count": 38,
   "metadata": {},
   "outputs": [
    {
     "data": {
      "text/plain": [
       "<matplotlib.axes._subplots.AxesSubplot at 0xdcec190>"
      ]
     },
     "execution_count": 38,
     "metadata": {},
     "output_type": "execute_result"
    },
    {
     "data": {
      "image/png": "[encoded data removed]",
      "text/plain": [
       "<Figure size 432x288 with 1 Axes>"
      ]
     },
     "metadata": {
      "needs_background": "light"
     },
     "output_type": "display_data"
    }
   ],
   "source": [
    "st_po_letih_samooskrba.plot(kind = \"bar\")"
   ]
  },
  {
   "cell_type": "markdown",
   "metadata": {},
   "source": [
    "Iz tega diagrama je jasno razvidno, da se število ssamooskrbnih sončnih elektraren povečuje. Ne morem pa delati kakrnšnih koli zaključkov, saj primerjam zgolj podatke iz 3 letih (Za razliko od 18 prej). \n",
    "\n",
    "Pogledal si bom še kakšne delež sončnih elektraren je bil zgrajen v posameznem letu"
   ]
  },
  {
   "cell_type": "code",
   "execution_count": 39,
   "metadata": {},
   "outputs": [
    {
     "data": {
      "text/plain": [
       "<matplotlib.axes._subplots.AxesSubplot at 0xdd466d0>"
      ]
     },
     "execution_count": 39,
     "metadata": {},
     "output_type": "execute_result"
    },
    {
     "data": {
      "image/png": "[encoded data removed]",
      "text/plain": [
       "<Figure size 432x288 with 1 Axes>"
      ]
     },
     "metadata": {},
     "output_type": "display_data"
    }
   ],
   "source": [
    "st_po_letih_samooskrba.plot(kind = \"pie\", labels = st_po_letih_samooskrba.index, autopct = \"%1.1f%%\")"
   ]
  },
  {
   "cell_type": "markdown",
   "metadata": {},
   "source": [
    "Zanimivo, v zadnjem letu (To je 2018) je bilo zgrajenih kar 60,8 % vseh samooskrbnih elektraren. Ta podatek je veljaven, če so seveda na spletni strani, s katere sem pobral podatke navedene vse samooskrbne sončne elektrarne.\n",
    "\n",
    "Zanima me še število sončnih zgrajenih samooskrbnih sončnih elektraren v posamezni regiji v določenem letu."
   ]
  },
  {
   "cell_type": "code",
   "execution_count": 40,
   "metadata": {},
   "outputs": [
    {
     "data": {
      "text/plain": [
       "<matplotlib.axes._subplots.AxesSubplot at 0xdd64270>"
      ]
     },
     "execution_count": 40,
     "metadata": {},
     "output_type": "execute_result"
    },
    {
     "data": {
      "image/png": "[encoded data removed]",
      "text/plain": [
       "<Figure size 432x288 with 1 Axes>"
      ]
     },
     "metadata": {
      "needs_background": "light"
     },
     "output_type": "display_data"
    }
   ],
   "source": [
    "leta_regije(podatki_samooskrba).plot(kind = \"bar\")"
   ]
  },
  {
   "cell_type": "markdown",
   "metadata": {},
   "source": [
    "V vseh regijah se število samooskrbbnbih sončnih elektaren skozi ta tri leta povečuje. Predvidevam, da se gradi vedno več samooskrbnih sončnih elektraren."
   ]
  },
  {
   "cell_type": "markdown",
   "metadata": {},
   "source": [
    "### 2.2 Moč sončnih elektraren"
   ]
  },
  {
   "cell_type": "markdown",
   "metadata": {},
   "source": [
    "V tem razdelku si bom spet ogledal skupne in povprečne moči samooskrbnih sončnih elektraren po regijah in letih."
   ]
  },
  {
   "cell_type": "code",
   "execution_count": 41,
   "metadata": {},
   "outputs": [
    {
     "data": {
      "text/html": [
       "<div>\n",
       "<style scoped>\n",
       "    .dataframe tbody tr th:only-of-type {\n",
       "        vertical-align: middle;\n",
       "    }\n",
       "\n",
       "    .dataframe tbody tr th {\n",
       "        vertical-align: top;\n",
       "    }\n",
       "\n",
       "    .dataframe thead th {\n",
       "        text-align: right;\n",
       "    }\n",
       "</style>\n",
       "<table border=\"1\" class=\"dataframe\">\n",
       "  <thead>\n",
       "    <tr style=\"text-align: right;\">\n",
       "      <th></th>\n",
       "      <th>Moc [kW]</th>\n",
       "    </tr>\n",
       "    <tr>\n",
       "      <th>Regija</th>\n",
       "      <th></th>\n",
       "    </tr>\n",
       "  </thead>\n",
       "  <tbody>\n",
       "    <tr>\n",
       "      <td>Celjska</td>\n",
       "      <td>2649.965</td>\n",
       "    </tr>\n",
       "    <tr>\n",
       "      <td>Dolenjska</td>\n",
       "      <td>2016.115</td>\n",
       "    </tr>\n",
       "    <tr>\n",
       "      <td>Gorenjska</td>\n",
       "      <td>2209.100</td>\n",
       "    </tr>\n",
       "    <tr>\n",
       "      <td>Goriska</td>\n",
       "      <td>744.610</td>\n",
       "    </tr>\n",
       "    <tr>\n",
       "      <td>OsrednjaSlovenija</td>\n",
       "      <td>4694.920</td>\n",
       "    </tr>\n",
       "    <tr>\n",
       "      <td>Podravje</td>\n",
       "      <td>5237.450</td>\n",
       "    </tr>\n",
       "    <tr>\n",
       "      <td>Prekmurje</td>\n",
       "      <td>1851.285</td>\n",
       "    </tr>\n",
       "    <tr>\n",
       "      <td>Primorska</td>\n",
       "      <td>1146.550</td>\n",
       "    </tr>\n",
       "  </tbody>\n",
       "</table>\n",
       "</div>"
      ],
      "text/plain": [
       "                   Moc [kW]\n",
       "Regija                     \n",
       "Celjska            2649.965\n",
       "Dolenjska          2016.115\n",
       "Gorenjska          2209.100\n",
       "Goriska             744.610\n",
       "OsrednjaSlovenija  4694.920\n",
       "Podravje           5237.450\n",
       "Prekmurje          1851.285\n",
       "Primorska          1146.550"
      ]
     },
     "execution_count": 41,
     "metadata": {},
     "output_type": "execute_result"
    }
   ],
   "source": [
    "moc_regije_samooskrba = podatki_samooskrba[[\"Regija\", \"Moc [kW]\"]].groupby(\"Regija\")\n",
    "skupna_moc_regije_samooskrba = moc_regije_samooskrba.sum()\n",
    "skupna_moc_regije_samooskrba"
   ]
  },
  {
   "cell_type": "code",
   "execution_count": 42,
   "metadata": {},
   "outputs": [
    {
     "data": {
      "text/plain": [
       "<matplotlib.axes._subplots.AxesSubplot at 0xdfe15b0>"
      ]
     },
     "execution_count": 42,
     "metadata": {},
     "output_type": "execute_result"
    },
    {
     "data": {
      "image/png": "[encoded data removed]",
      "text/plain": [
       "<Figure size 432x288 with 1 Axes>"
      ]
     },
     "metadata": {},
     "output_type": "display_data"
    }
   ],
   "source": [
    "skupna_moc_regije_samooskrba[\"Moc [kW]\"].plot(kind = \"pie\", labels = skupna_moc_regije_samooskrba.index,\n",
    "                                                autopct = \"%1.1f%%\")"
   ]
  },
  {
   "cell_type": "markdown",
   "metadata": {},
   "source": [
    "Pričakovano največ samooskrbe moči imata podravska in osrednjeslovenska regija. Sedaj me zanima še, če imata tudi največjo povprečno moč."
   ]
  },
  {
   "cell_type": "code",
   "execution_count": 43,
   "metadata": {},
   "outputs": [
    {
     "data": {
      "text/plain": [
       "<matplotlib.axes._subplots.AxesSubplot at 0xe0559d0>"
      ]
     },
     "execution_count": 43,
     "metadata": {},
     "output_type": "execute_result"
    },
    {
     "data": {
      "image/png": "[encoded data removed]",
      "text/plain": [
       "<Figure size 432x288 with 1 Axes>"
      ]
     },
     "metadata": {
      "needs_background": "light"
     },
     "output_type": "display_data"
    }
   ],
   "source": [
    "skupna_moc_regije_samooskrba.plot(kind = \"bar\")"
   ]
  },
  {
   "cell_type": "code",
   "execution_count": 44,
   "metadata": {},
   "outputs": [
    {
     "data": {
      "text/html": [
       "<div>\n",
       "<style scoped>\n",
       "    .dataframe tbody tr th:only-of-type {\n",
       "        vertical-align: middle;\n",
       "    }\n",
       "\n",
       "    .dataframe tbody tr th {\n",
       "        vertical-align: top;\n",
       "    }\n",
       "\n",
       "    .dataframe thead th {\n",
       "        text-align: right;\n",
       "    }\n",
       "</style>\n",
       "<table border=\"1\" class=\"dataframe\">\n",
       "  <thead>\n",
       "    <tr style=\"text-align: right;\">\n",
       "      <th></th>\n",
       "      <th>Mean moc [kW]</th>\n",
       "    </tr>\n",
       "    <tr>\n",
       "      <th>Regija</th>\n",
       "      <th></th>\n",
       "    </tr>\n",
       "  </thead>\n",
       "  <tbody>\n",
       "    <tr>\n",
       "      <td>Celjska</td>\n",
       "      <td>9.671405</td>\n",
       "    </tr>\n",
       "    <tr>\n",
       "      <td>Dolenjska</td>\n",
       "      <td>9.834707</td>\n",
       "    </tr>\n",
       "    <tr>\n",
       "      <td>Gorenjska</td>\n",
       "      <td>9.166390</td>\n",
       "    </tr>\n",
       "    <tr>\n",
       "      <td>Goriska</td>\n",
       "      <td>8.971205</td>\n",
       "    </tr>\n",
       "    <tr>\n",
       "      <td>OsrednjaSlovenija</td>\n",
       "      <td>9.542520</td>\n",
       "    </tr>\n",
       "    <tr>\n",
       "      <td>Podravje</td>\n",
       "      <td>9.844831</td>\n",
       "    </tr>\n",
       "    <tr>\n",
       "      <td>Prekmurje</td>\n",
       "      <td>9.795159</td>\n",
       "    </tr>\n",
       "    <tr>\n",
       "      <td>Primorska</td>\n",
       "      <td>9.397951</td>\n",
       "    </tr>\n",
       "  </tbody>\n",
       "</table>\n",
       "</div>"
      ],
      "text/plain": [
       "                   Mean moc [kW]\n",
       "Regija                          \n",
       "Celjska                 9.671405\n",
       "Dolenjska               9.834707\n",
       "Gorenjska               9.166390\n",
       "Goriska                 8.971205\n",
       "OsrednjaSlovenija       9.542520\n",
       "Podravje                9.844831\n",
       "Prekmurje               9.795159\n",
       "Primorska               9.397951"
      ]
     },
     "execution_count": 44,
     "metadata": {},
     "output_type": "execute_result"
    }
   ],
   "source": [
    "povprecna_moc_regije_samooskrba = moc_regije_samooskrba.mean()\n",
    "povprecna_moc_regije_samooskrba.columns = [\"Mean moc [kW]\"]\n",
    "povprecna_moc_regije_samooskrba"
   ]
  },
  {
   "cell_type": "code",
   "execution_count": 45,
   "metadata": {},
   "outputs": [
    {
     "data": {
      "text/plain": [
       "<matplotlib.axes._subplots.AxesSubplot at 0xe1387b0>"
      ]
     },
     "execution_count": 45,
     "metadata": {},
     "output_type": "execute_result"
    },
    {
     "data": {
      "image/png": "[encoded data removed]",
      "text/plain": [
       "<Figure size 432x288 with 1 Axes>"
      ]
     },
     "metadata": {
      "needs_background": "light"
     },
     "output_type": "display_data"
    }
   ],
   "source": [
    "povprecna_moc_regije_samooskrba.plot(kind = \"bar\")"
   ]
  },
  {
   "cell_type": "markdown",
   "metadata": {},
   "source": [
    "Presenetljivo, so tu povprečne moči sončnih elektraren po regijah zelo primerljive. To je verjetno zato, ker so tudi vse elektrarne približno enako močne, to je nimajo velikih razponov moči, kot verjetno ne samooskrbne elektrarne. To bom preveril s histogramom, ki bo imel za posamezno regijo prikazano najšibkejšo in najmočnejšo sončno elektrarno in še povprečno moč regije. "
   ]
  },
  {
   "cell_type": "code",
   "execution_count": 46,
   "metadata": {},
   "outputs": [
    {
     "data": {
      "text/plain": [
       "<matplotlib.axes._subplots.AxesSubplot at 0xe21e170>"
      ]
     },
     "execution_count": 46,
     "metadata": {},
     "output_type": "execute_result"
    },
    {
     "data": {
      "image/png": "[encoded data removed]",
      "text/plain": [
       "<Figure size 432x288 with 1 Axes>"
      ]
     },
     "metadata": {
      "needs_background": "light"
     },
     "output_type": "display_data"
    }
   ],
   "source": [
    "razpon_moci(moc_regije_samooskrba).plot(kind = \"bar\")"
   ]
  },
  {
   "cell_type": "markdown",
   "metadata": {},
   "source": [
    "Vidim da je povprečna moč po večini regij močno približana največji moči iz česar sklepam, da je več močnejših kot šibkejših sončnih elektraren"
   ]
  },
  {
   "cell_type": "markdown",
   "metadata": {},
   "source": [
    "Sedaj me zanimata še skupna in povprečna moč po letih"
   ]
  },
  {
   "cell_type": "code",
   "execution_count": 47,
   "metadata": {},
   "outputs": [
    {
     "data": {
      "text/html": [
       "<div>\n",
       "<style scoped>\n",
       "    .dataframe tbody tr th:only-of-type {\n",
       "        vertical-align: middle;\n",
       "    }\n",
       "\n",
       "    .dataframe tbody tr th {\n",
       "        vertical-align: top;\n",
       "    }\n",
       "\n",
       "    .dataframe thead th {\n",
       "        text-align: right;\n",
       "    }\n",
       "</style>\n",
       "<table border=\"1\" class=\"dataframe\">\n",
       "  <thead>\n",
       "    <tr style=\"text-align: right;\">\n",
       "      <th></th>\n",
       "      <th>Moc [kW]</th>\n",
       "    </tr>\n",
       "    <tr>\n",
       "      <th>Leto</th>\n",
       "      <th></th>\n",
       "    </tr>\n",
       "  </thead>\n",
       "  <tbody>\n",
       "    <tr>\n",
       "      <td>2016</td>\n",
       "      <td>974.890</td>\n",
       "    </tr>\n",
       "    <tr>\n",
       "      <td>2017</td>\n",
       "      <td>6479.440</td>\n",
       "    </tr>\n",
       "    <tr>\n",
       "      <td>2018</td>\n",
       "      <td>13095.665</td>\n",
       "    </tr>\n",
       "  </tbody>\n",
       "</table>\n",
       "</div>"
      ],
      "text/plain": [
       "       Moc [kW]\n",
       "Leto           \n",
       "2016    974.890\n",
       "2017   6479.440\n",
       "2018  13095.665"
      ]
     },
     "execution_count": 47,
     "metadata": {},
     "output_type": "execute_result"
    }
   ],
   "source": [
    "moc_leto_samooskrba = podatki_samooskrba[[\"Leto\", \"Moc [kW]\"]].groupby(\"Leto\")\n",
    "skupna_moc_leto_samooskrba = moc_leto_samooskrba.sum()\n",
    "skupna_moc_leto_samooskrba"
   ]
  },
  {
   "cell_type": "code",
   "execution_count": 48,
   "metadata": {},
   "outputs": [
    {
     "data": {
      "text/plain": [
       "<matplotlib.axes._subplots.AxesSubplot at 0xe29c2f0>"
      ]
     },
     "execution_count": 48,
     "metadata": {},
     "output_type": "execute_result"
    },
    {
     "data": {
      "image/png": "[encoded data removed]",
      "text/plain": [
       "<Figure size 432x288 with 1 Axes>"
      ]
     },
     "metadata": {
      "needs_background": "light"
     },
     "output_type": "display_data"
    }
   ],
   "source": [
    "skupna_moc_leto_samooskrba.plot(kind = \"bar\")"
   ]
  },
  {
   "cell_type": "markdown",
   "metadata": {},
   "source": [
    "Tako kot število sončnih elektraren se pričakovino tudi skupna letna moč sončnih elektraren skozi leta povečuje. Sedaj me zanima še če se povečuje tudi povprečna moč sončne elektrarne, ali ostaja pač približno enaka"
   ]
  },
  {
   "cell_type": "code",
   "execution_count": 49,
   "metadata": {},
   "outputs": [
    {
     "data": {
      "text/html": [
       "<div>\n",
       "<style scoped>\n",
       "    .dataframe tbody tr th:only-of-type {\n",
       "        vertical-align: middle;\n",
       "    }\n",
       "\n",
       "    .dataframe tbody tr th {\n",
       "        vertical-align: top;\n",
       "    }\n",
       "\n",
       "    .dataframe thead th {\n",
       "        text-align: right;\n",
       "    }\n",
       "</style>\n",
       "<table border=\"1\" class=\"dataframe\">\n",
       "  <thead>\n",
       "    <tr style=\"text-align: right;\">\n",
       "      <th></th>\n",
       "      <th>Moc [kW]</th>\n",
       "    </tr>\n",
       "    <tr>\n",
       "      <th>Leto</th>\n",
       "      <th></th>\n",
       "    </tr>\n",
       "  </thead>\n",
       "  <tbody>\n",
       "    <tr>\n",
       "      <td>2016</td>\n",
       "      <td>8.056942</td>\n",
       "    </tr>\n",
       "    <tr>\n",
       "      <td>2017</td>\n",
       "      <td>9.024290</td>\n",
       "    </tr>\n",
       "    <tr>\n",
       "      <td>2018</td>\n",
       "      <td>10.081343</td>\n",
       "    </tr>\n",
       "  </tbody>\n",
       "</table>\n",
       "</div>"
      ],
      "text/plain": [
       "       Moc [kW]\n",
       "Leto           \n",
       "2016   8.056942\n",
       "2017   9.024290\n",
       "2018  10.081343"
      ]
     },
     "execution_count": 49,
     "metadata": {},
     "output_type": "execute_result"
    }
   ],
   "source": [
    "povprecna_moc_leto_samooskrba = moc_leto_samooskrba.mean()\n",
    "povprecna_moc_leto_samooskrba"
   ]
  },
  {
   "cell_type": "code",
   "execution_count": 50,
   "metadata": {},
   "outputs": [
    {
     "data": {
      "text/plain": [
       "<matplotlib.axes._subplots.AxesSubplot at 0xe2d9a10>"
      ]
     },
     "execution_count": 50,
     "metadata": {},
     "output_type": "execute_result"
    },
    {
     "data": {
      "image/png": "[encoded data removed]",
      "text/plain": [
       "<Figure size 432x288 with 1 Axes>"
      ]
     },
     "metadata": {
      "needs_background": "light"
     },
     "output_type": "display_data"
    }
   ],
   "source": [
    "povprecna_moc_leto_samooskrba.plot(kind = \"bar\")"
   ]
  },
  {
   "cell_type": "markdown",
   "metadata": {},
   "source": [
    "Povprečna moč samooskrbnih sončnih elektraren se tudi skozi leta povečuje. Iz sicer okrnejenega vira podatkov, lahko sklepam, da se gradijo vedno močnejše samooskrbne elektrarne. Pogledal si bom še če tudi moč najšibkejše in najmočnejše sončne elektrarne narašča skozi leta."
   ]
  },
  {
   "cell_type": "code",
   "execution_count": 51,
   "metadata": {},
   "outputs": [
    {
     "data": {
      "text/plain": [
       "<matplotlib.axes._subplots.AxesSubplot at 0xe318b30>"
      ]
     },
     "execution_count": 51,
     "metadata": {},
     "output_type": "execute_result"
    },
    {
     "data": {
      "image/png": "[encoded data removed]",
      "text/plain": [
       "<Figure size 432x288 with 1 Axes>"
      ]
     },
     "metadata": {
      "needs_background": "light"
     },
     "output_type": "display_data"
    }
   ],
   "source": [
    "razpon_moci(moc_leto_samooskrba).plot(kind = \"bar\")"
   ]
  },
  {
   "cell_type": "markdown",
   "metadata": {},
   "source": [
    "Iz histograma se vidi, da je povprečna moč malenkost manjša kot največja moč. Ker je povprečna moč precej približana največji moči lahko spet sklepam, da je več močnejši sončnih elektraren."
   ]
  },
  {
   "cell_type": "markdown",
   "metadata": {},
   "source": [
    "### 2.3 Kraji znotraj regij\n",
    "\n",
    "Sedaj me zanima še, če je kak kraj prevladujoč po številu sončnih elektraren."
   ]
  },
  {
   "cell_type": "code",
   "execution_count": 52,
   "metadata": {},
   "outputs": [
    {
     "data": {
      "text/plain": [
       "Kraj\n",
       "Ljubljana             64\n",
       "Maribor               57\n",
       "Ptuj                  36\n",
       "Murska Sobota         35\n",
       "Slovenska Bistrica    30\n",
       "                      ..\n",
       "Nova vas               1\n",
       "Nazarje                1\n",
       "Miren                  1\n",
       "Mežica                 1\n",
       "Osilnica               1\n",
       "Length: 413, dtype: int64"
      ]
     },
     "execution_count": 52,
     "metadata": {},
     "output_type": "execute_result"
    }
   ],
   "source": [
    "podatki_samooskrba.groupby(\"Kraj\").size().sort_values(ascending = False)"
   ]
  },
  {
   "cell_type": "code",
   "execution_count": 53,
   "metadata": {},
   "outputs": [
    {
     "data": {
      "text/plain": [
       "<matplotlib.axes._subplots.AxesSubplot at 0xf3389f0>"
      ]
     },
     "execution_count": 53,
     "metadata": {},
     "output_type": "execute_result"
    },
    {
     "data": {
      "image/png": "[encoded data removed]",
      "text/plain": [
       "<Figure size 432x288 with 1 Axes>"
      ]
     },
     "metadata": {
      "needs_background": "light"
     },
     "output_type": "display_data"
    }
   ],
   "source": [
    "podatki_samooskrba.groupby(\"Kraj\").size().sort_values(ascending = False).head(15).plot(kind = \"bar\")"
   ]
  },
  {
   "cell_type": "markdown",
   "metadata": {},
   "source": [
    "Zgornji graf prikazuje 15 sloveskih krajev z največ samooskrbnimi elektrarnami. Spet so pričakovano na vrhu večja mesta, se pa pojavljajo tudi manjša mesta."
   ]
  },
  {
   "cell_type": "markdown",
   "metadata": {},
   "source": [
    "## 3. Zaključek"
   ]
  },
  {
   "cell_type": "markdown",
   "metadata": {},
   "source": [
    "Kaj sem ugotovil: \n",
    "* Največja izgradnja ne samooskrbnih sončnih elektraren je bila med leti 2009 in 2014, nato je upadla\n",
    "* Čeprav ima podatke za samooskrbne sončne elektrarne le od leta 2016 dalje, lahko sklepam da se gradi vedno več samooskrbnih elektraren. \n",
    "* V obeh primerih ima največji delež sončnih elektraren Podravska regija.\n",
    "* Goriška in Primorska regija imata v obeh primerih najmanjši delež sončnih elektraren."
   ]
  }
 ],
 "metadata": {
  "kernelspec": {
   "display_name": "Python 3",
   "language": "python",
   "name": "python3"
  },
  "language_info": {
   "codemirror_mode": {
    "name": "ipython",
    "version": 3
   },
   "file_extension": ".py",
   "mimetype": "text/x-python",
   "name": "python",
   "nbconvert_exporter": "python",
   "pygments_lexer": "ipython3",
   "version": "3.7.4"
  }
 },
 "nbformat": 4,
 "nbformat_minor": 2
}
